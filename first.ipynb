{
 "cells": [
  {
   "cell_type": "code",
   "execution_count": 13,
   "id": "ca50f67b",
   "metadata": {},
   "outputs": [
    {
     "name": "stdout",
     "output_type": "stream",
     "text": [
      "Hello Sudev\n",
      "3\n",
      "hello jupyter\n",
      "2+3\n",
      "6\n",
      "\n",
      "\n",
      "new line\n"
     ]
    }
   ],
   "source": [
    "print(\"Hello Sudev\")\n",
    "print(1+2)\n",
    "print(\"hello jupyter\")\n",
    "print(\"2+3\")\n",
    "print(3*2)\n",
    "print(\"\\n\")\n",
    "print(\"new line\")"
   ]
  },
  {
   "cell_type": "code",
   "execution_count": 19,
   "id": "f1e67fe4",
   "metadata": {},
   "outputs": [
    {
     "name": "stdout",
     "output_type": "stream",
     "text": [
      "3.142857142857143\n",
      "3\n"
     ]
    }
   ],
   "source": [
    "print(22/7)\n",
    "print(22//7)     #removes number after point"
   ]
  },
  {
   "cell_type": "code",
   "execution_count": 22,
   "id": "4bb2d765",
   "metadata": {},
   "outputs": [
    {
     "name": "stdout",
     "output_type": "stream",
     "text": [
      "python strings\n"
     ]
    }
   ],
   "source": [
    "print(\"python strings\")"
   ]
  },
  {
   "cell_type": "code",
   "execution_count": 25,
   "id": "e2524990",
   "metadata": {},
   "outputs": [
    {
     "name": "stdout",
     "output_type": "stream",
     "text": [
      "Hello Sudev\n",
      "HelloSudev\n",
      "\n"
     ]
    }
   ],
   "source": [
    "print(\"Hello\"+\" Sudev\")    #concatenation\n",
    "print(\"Hello\" \"Sudev\")\n",
    "print()"
   ]
  },
  {
   "cell_type": "code",
   "execution_count": 33,
   "id": "a451d85a",
   "metadata": {},
   "outputs": [
    {
     "name": "stdout",
     "output_type": "stream",
     "text": [
      "sudev majhi\n",
      "Sudevbabu\n",
      "Sudev babu\n"
     ]
    }
   ],
   "source": [
    "name='sudev majhi'\n",
    "print(name)\n",
    "\n",
    "a='Sudev'\n",
    "b='babu'\n",
    "print(a+b)\n",
    "print(a+' '+b)\n",
    "print()"
   ]
  },
  {
   "cell_type": "code",
   "execution_count": 40,
   "id": "ae14407c",
   "metadata": {},
   "outputs": [
    {
     "name": "stdout",
     "output_type": "stream",
     "text": [
      "😛 🥵 🤖  🥷\n"
     ]
    }
   ],
   "source": [
    "print(\"\\U0001F61B \\U0001F975 \\U0001F916  \\U0001F977\")"
   ]
  },
  {
   "cell_type": "code",
   "execution_count": 46,
   "id": "a8f0c24f",
   "metadata": {},
   "outputs": [
    {
     "data": {
      "text/plain": [
       "str"
      ]
     },
     "execution_count": 46,
     "metadata": {},
     "output_type": "execute_result"
    }
   ],
   "source": [
    "var1='11.3'\n",
    "type(var1)\n"
   ]
  },
  {
   "cell_type": "code",
   "execution_count": 47,
   "id": "51375f6d",
   "metadata": {},
   "outputs": [
    {
     "data": {
      "text/plain": [
       "int"
      ]
     },
     "execution_count": 47,
     "metadata": {},
     "output_type": "execute_result"
    }
   ],
   "source": [
    "var2=int(9999999)\n",
    "type(var2)\n"
   ]
  },
  {
   "cell_type": "code",
   "execution_count": 51,
   "id": "1de20781",
   "metadata": {},
   "outputs": [
    {
     "name": "stdout",
     "output_type": "stream",
     "text": [
      "jupyter20\n"
     ]
    }
   ],
   "source": [
    "var1=20\n",
    "name='jupyter'\n",
    "print(name+str(var1))"
   ]
  },
  {
   "cell_type": "code",
   "execution_count": 52,
   "id": "c06a7317",
   "metadata": {},
   "outputs": [
    {
     "name": "stdout",
     "output_type": "stream",
     "text": [
      "48\n"
     ]
    }
   ],
   "source": [
    "age1=24\n",
    "age2=24\n",
    "\n",
    "print(age1+age2)"
   ]
  },
  {
   "cell_type": "code",
   "execution_count": 70,
   "id": "860dec9e",
   "metadata": {},
   "outputs": [
    {
     "name": "stdout",
     "output_type": "stream",
     "text": [
      "SudevSudevSudev\n"
     ]
    }
   ],
   "source": [
    "name='Sudev'\n",
    "\n",
    "print(name*3)"
   ]
  },
  {
   "cell_type": "code",
   "execution_count": 77,
   "id": "e2f1c0a5",
   "metadata": {},
   "outputs": [
    {
     "name": "stdout",
     "output_type": "stream",
     "text": [
      "8\n",
      "1.4142135623730951\n",
      "1.4142\n",
      "2.5\n",
      "512\n",
      "512\n"
     ]
    }
   ],
   "source": [
    "print(2**3)    #2^3\n",
    "print(2**0.5)\n",
    "print(round(2**0.5,4))\n",
    "print((2+3)/2)\n",
    "print(2**3**2)\n",
    "print(2**9)\n"
   ]
  },
  {
   "cell_type": "code",
   "execution_count": 80,
   "id": "93e5965d",
   "metadata": {},
   "outputs": [
    {
     "name": "stdout",
     "output_type": "stream",
     "text": [
      "Sudev\n",
      "Sudev\n"
     ]
    }
   ],
   "source": [
    "use_one_name=\"Sudev\"   #snake case writing \n",
    "useOneName=\"Sudev\"     #camel case writing\n",
    "\n",
    "print(use_one_name)\n",
    "print(useOneName)"
   ]
  },
  {
   "cell_type": "code",
   "execution_count": 84,
   "id": "fe462d2b",
   "metadata": {},
   "outputs": [
    {
     "name": "stdout",
     "output_type": "stream",
     "text": [
      "type your name : sudev babu\n",
      "hello sudev babu\n"
     ]
    }
   ],
   "source": [
    "#user input\n",
    "\n",
    "name=input(\"type your name : \")\n",
    "\n",
    "print(\"hello\"+\" \"+name)"
   ]
  },
  {
   "cell_type": "code",
   "execution_count": null,
   "id": "5ee01f05",
   "metadata": {},
   "outputs": [],
   "source": [
    "age=input(\"what is your age : \")\n",
    "\n",
    "print(\"your age is \"+age)\n"
   ]
  },
  {
   "cell_type": "code",
   "execution_count": 3,
   "id": "ec5540c7",
   "metadata": {},
   "outputs": [
    {
     "name": "stdout",
     "output_type": "stream",
     "text": [
      "20sudev\n"
     ]
    }
   ],
   "source": [
    "var1=20\n",
    "name='sudev'\n",
    "\n",
    "print(str(var1)+name)"
   ]
  },
  {
   "cell_type": "code",
   "execution_count": 14,
   "id": "b1958662",
   "metadata": {},
   "outputs": [
    {
     "name": "stdout",
     "output_type": "stream",
     "text": [
      "74\n",
      "66\n",
      "-66\n",
      "280\n",
      "24010000\n",
      "17.5\n",
      "17\n",
      "2\n"
     ]
    }
   ],
   "source": [
    "var3= 70\n",
    "var4= 4\n",
    "\n",
    "print(var3+var4)\n",
    "print(var3-var4)\n",
    "print(var4-var3)\n",
    "print(var3*var4)\n",
    "print(var3**var4)\n",
    "print(var3/var4)\n",
    "print(var3//var4)\n",
    "print(var3%var4)"
   ]
  },
  {
   "cell_type": "code",
   "execution_count": 16,
   "id": "15d5a29c",
   "metadata": {},
   "outputs": [
    {
     "name": "stdout",
     "output_type": "stream",
     "text": [
      "enter value of var3 : 23\n",
      "enter value of var4 : 3\n",
      "233\n"
     ]
    }
   ],
   "source": [
    "var3= input('enter value of var3 : ')\n",
    "var4= input('enter value of var4 : ')\n",
    "\n",
    "print(var3+var4)"
   ]
  },
  {
   "cell_type": "code",
   "execution_count": 19,
   "id": "afc215b2",
   "metadata": {},
   "outputs": [
    {
     "name": "stdout",
     "output_type": "stream",
     "text": [
      "enter value of var3 : 34\n",
      "enter value of var4 : 23\n",
      "57\n"
     ]
    }
   ],
   "source": [
    "#type casting\n",
    "\n",
    "var3= int(input('enter value of var3 : '))\n",
    "var4= int(input('enter value of var4 : '))\n",
    "\n",
    "print(var3+var4)\n"
   ]
  },
  {
   "cell_type": "code",
   "execution_count": null,
   "id": "8429bd8a",
   "metadata": {},
   "outputs": [],
   "source": []
  }
 ],
 "metadata": {
  "kernelspec": {
   "display_name": "Python 3 (ipykernel)",
   "language": "python",
   "name": "python3"
  },
  "language_info": {
   "codemirror_mode": {
    "name": "ipython",
    "version": 3
   },
   "file_extension": ".py",
   "mimetype": "text/x-python",
   "name": "python",
   "nbconvert_exporter": "python",
   "pygments_lexer": "ipython3",
   "version": "3.9.7"
  }
 },
 "nbformat": 4,
 "nbformat_minor": 5
}
